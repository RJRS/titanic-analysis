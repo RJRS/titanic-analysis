{
  "nbformat": 4,
  "nbformat_minor": 0,
  "metadata": {
    "colab": {
      "name": "專題專作_week1.ipynb",
      "provenance": [],
      "authorship_tag": "ABX9TyNLldwpEH3JOpNMAS0D2vGk",
      "include_colab_link": true
    },
    "kernelspec": {
      "name": "python3",
      "display_name": "Python 3"
    },
    "language_info": {
      "name": "python"
    }
  },
  "cells": [
    {
      "cell_type": "markdown",
      "metadata": {
        "id": "view-in-github",
        "colab_type": "text"
      },
      "source": [
        "<a href=\"https://colab.research.google.com/github/RJRS/titanic-analysis/blob/main/%E5%B0%88%E9%A1%8C%E5%B0%88%E4%BD%9C_week1.ipynb\" target=\"_parent\"><img src=\"https://colab.research.google.com/assets/colab-badge.svg\" alt=\"Open In Colab\"/></a>"
      ]
    },
    {
      "cell_type": "markdown",
      "source": [
        "### * 專題實作 #01： 鐵達尼號存活預測"
      ],
      "metadata": {
        "id": "csfi0BEsvFWo"
      }
    },
    {
      "cell_type": "code",
      "execution_count": null,
      "metadata": {
        "id": "qSpy8mkyu4eE"
      },
      "outputs": [],
      "source": [
        ""
      ]
    },
    {
      "cell_type": "markdown",
      "source": [
        ""
      ],
      "metadata": {
        "id": "Jb2RW99MvC0R"
      }
    }
  ]
}